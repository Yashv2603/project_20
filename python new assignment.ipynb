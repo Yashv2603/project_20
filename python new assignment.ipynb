{
 "cells": [
  {
   "cell_type": "markdown",
   "metadata": {},
   "source": [
    "1. Create the empty list and ask user to enters only int, float elements in the list."
   ]
  },
  {
   "cell_type": "code",
   "execution_count": 16,
   "metadata": {},
   "outputs": [
    {
     "name": "stdout",
     "output_type": "stream",
     "text": [
      "valid\n",
      "Error:could not convert string to float: 'l'\n",
      "list [14]\n"
     ]
    }
   ],
   "source": [
    "list1=[]\n",
    "try:\n",
    "    a=input(\"Enter the value:\")\n",
    "    a=int(a)\n",
    "    print(\"valid\")\n",
    "    list1.append(a)\n",
    "except Exception as e:\n",
    "    print(f\"Error:{e}\")\n",
    "try:\n",
    "    a=input(\"Enter the value:\")\n",
    "    a=float(a)\n",
    "    print(\"valid\")\n",
    "    list1.append(a)\n",
    "except Exception as e:\n",
    "    print(f\"Error:{e}\")\n",
    "print(\"list\",list1)\n",
    "\n",
    "\n"
   ]
  },
  {
   "cell_type": "markdown",
   "metadata": {},
   "source": [
    "2. Create a empty dictionary d1 ask user to enter the values using loop"
   ]
  },
  {
   "cell_type": "code",
   "execution_count": 1,
   "metadata": {},
   "outputs": [
    {
     "name": "stdout",
     "output_type": "stream",
     "text": [
      "Dictionary: {'a': '12'}\n"
     ]
    }
   ],
   "source": [
    "d = {}  \n",
    "\n",
    "while True:\n",
    "    k = input(\"Enter key (or type 'stop' to end): \")\n",
    "    if k.lower() == \"stop\":  \n",
    "        break\n",
    "    v = input(\"Enter value: \")\n",
    "    d[k] = v  \n",
    "\n",
    "print(\"Dictionary:\", d)\n"
   ]
  },
  {
   "cell_type": "markdown",
   "metadata": {},
   "source": [
    "3. Create a empty dictionary d1 ask user to enter the values using comprehensive list"
   ]
  },
  {
   "cell_type": "code",
   "execution_count": 1,
   "metadata": {},
   "outputs": [
    {
     "name": "stdout",
     "output_type": "stream",
     "text": [
      "{'Name': ['45', '45', '45', '45', '45']}\n"
     ]
    }
   ],
   "source": [
    "d2={}\n",
    "n=int(input(\"How many pair you want?\"))\n",
    "values=[input(\"Enter value: \") for i in range(n)]\n",
    "d2[\"Name\"]=values\n",
    "print(d2)"
   ]
  },
  {
   "cell_type": "markdown",
   "metadata": {},
   "source": [
    "4. Create a function which will accept two integer or float parameter from user and return 4 arithmetic operations in the form of tuple. If user pass argument other than integer and float then error should be created."
   ]
  },
  {
   "cell_type": "code",
   "execution_count": 3,
   "metadata": {},
   "outputs": [],
   "source": [
    "def calculation():\n",
    "    while True:\n",
    "        try:\n",
    "            a=float(input(\"enter value of a:\"))\n",
    "            b=float(input(\"enter value of b:\"))\n",
    "\n",
    "            c=(a+b,a-b,a*b,a/b)\n",
    "            return c\n",
    "        except Exception as e:\n",
    "            print(f\"{e}\")"
   ]
  },
  {
   "cell_type": "code",
   "execution_count": 11,
   "metadata": {},
   "outputs": [
    {
     "data": {
      "text/plain": [
       "(8.0, 0.0, 16.0, 1.0)"
      ]
     },
     "execution_count": 11,
     "metadata": {},
     "output_type": "execute_result"
    }
   ],
   "source": [
    " calculation()"
   ]
  },
  {
   "cell_type": "markdown",
   "metadata": {},
   "source": [
    "5. Based on the above function (Question number 4) dived the outcome of multiplication by 2."
   ]
  },
  {
   "cell_type": "code",
   "execution_count": 12,
   "metadata": {},
   "outputs": [
    {
     "data": {
      "text/plain": [
       "8.0"
      ]
     },
     "execution_count": 12,
     "metadata": {},
     "output_type": "execute_result"
    }
   ],
   "source": [
    "calculation()[2]/2"
   ]
  },
  {
   "cell_type": "markdown",
   "metadata": {},
   "source": [
    "6. create a function to add only string element in a list. if other than string display the appropriate message."
   ]
  },
  {
   "cell_type": "code",
   "execution_count": 31,
   "metadata": {},
   "outputs": [
    {
     "name": "stdout",
     "output_type": "stream",
     "text": [
      "List ['yash', 'pradip ', 'harshwardhan', 'chetan', 'rohit']\n"
     ]
    }
   ],
   "source": [
    "l2=[]\n",
    "try:\n",
    "    numm=int(input(\"How many value you want?\"))\n",
    "    values=[input(\"Enter value: \") for i in range(numm)]\n",
    "    for i in values:\n",
    "        # print(i, type(i))\n",
    "        if type(i)==str:\n",
    "            l2.append(i)\n",
    "        else:\n",
    "            print(\"Only string allowed\")\n",
    "except Exception as e:\n",
    "    print(f\"{e}\")\n",
    "\n",
    "print(\"List\",l2)\n"
   ]
  },
  {
   "cell_type": "code",
   "execution_count": 33,
   "metadata": {},
   "outputs": [
    {
     "name": "stdout",
     "output_type": "stream",
     "text": [
      "Entered value is not string.\n"
     ]
    },
    {
     "data": {
      "text/plain": [
       "['yash', 'rohit', 'chetan', 'madhuri', 'sakshi']"
      ]
     },
     "execution_count": 33,
     "metadata": {},
     "output_type": "execute_result"
    }
   ],
   "source": [
    "def strl():\n",
    "    l2 = []\n",
    "    while True:\n",
    "        s=input('Enter Values to add into list: ')\n",
    "        try:\n",
    "            if s.isalpha():\n",
    "                l2.append(s)\n",
    "            else:\n",
    "                print('Entered value is not string.')\n",
    " \n",
    "            a= input('Do you want to continue? (y/n): ')\n",
    "            if a=='n':\n",
    "                break\n",
    "            else:\n",
    "                continue\n",
    "        except Exception as e:\n",
    "            print(e)\n",
    "    return l2\n",
    " \n",
    "strl()"
   ]
  },
  {
   "cell_type": "markdown",
   "metadata": {},
   "source": [
    "8. Create a function which will accept the dictionary and display key values in separate line."
   ]
  },
  {
   "cell_type": "code",
   "execution_count": null,
   "metadata": {},
   "outputs": [
    {
     "name": "stdout",
     "output_type": "stream",
     "text": [
      "Name Yash\n",
      "Age 22\n"
     ]
    }
   ],
   "source": [
    "\n",
    "def acc(wargs):\n",
    "    for key,values in wargs.items():\n",
    "        print(key,values)\n",
    "d={\"Name\":\"Yash\",\"Age\":22}\n",
    "acc(d)"
   ]
  },
  {
   "cell_type": "markdown",
   "metadata": {},
   "source": [
    "9. Create a lambda function which will accept the dictionary and display key values in separate line."
   ]
  },
  {
   "cell_type": "code",
   "execution_count": 36,
   "metadata": {},
   "outputs": [
    {
     "name": "stdout",
     "output_type": "stream",
     "text": [
      "Name Yash\n",
      "Age 22\n"
     ]
    },
    {
     "data": {
      "text/plain": [
       "[None, None]"
      ]
     },
     "execution_count": 36,
     "metadata": {},
     "output_type": "execute_result"
    }
   ],
   "source": [
    "d={\"Name\":\"Yash\",\"Age\":22}\n",
    "c=lambda d:[print(key,value) for key,value in d.items()]\n",
    "c(d)\n"
   ]
  },
  {
   "cell_type": "markdown",
   "metadata": {},
   "source": [
    "10. Create a function to validate the password: password should contains at least one small letter, one capital letter, one number, and one special character except comma, quotes"
   ]
  },
  {
   "cell_type": "code",
   "execution_count": 65,
   "metadata": {},
   "outputs": [],
   "source": [
    "def validation():\n",
    "    try:\n",
    "        # pattern=\"^[a-z]*[A-Z][a-z].*[0-9][0-9]$\"\n",
    "        pattern = r'(?=.*[A-Z])(?=.*[a-z])(?=.*[\\d])(?=.*[!@#$%^&*])[A-Za-z\\d!@#$%^&*{5,}]'\n",
    "        a=input(\"Enter your Password:\")\n",
    "        if re.match(pattern, a):\n",
    "            print(\"Valid Password: \", a)\n",
    "        else:\n",
    "            print(\"Invalid Password\")\n",
    "    except Exception as e:\n",
    "        print(f\"{e}\")\n",
    "    "
   ]
  },
  {
   "cell_type": "code",
   "execution_count": 66,
   "metadata": {},
   "outputs": [
    {
     "name": "stdout",
     "output_type": "stream",
     "text": [
      "Valid Password:  Yash##26\n"
     ]
    }
   ],
   "source": [
    "validation()"
   ]
  },
  {
   "cell_type": "markdown",
   "metadata": {},
   "source": [
    "11. Generate a decorator having logic to accept natural numbers . which can be used in a function of factorial"
   ]
  },
  {
   "cell_type": "code",
   "execution_count": 83,
   "metadata": {},
   "outputs": [
    {
     "name": "stdout",
     "output_type": "stream",
     "text": [
      "Negative number not exist\n"
     ]
    }
   ],
   "source": [
    "def funct(fx):\n",
    "    def wrapper(x):\n",
    "        if x<0:\n",
    "            print(\"Negative number not exist\")\n",
    "            return\n",
    "        return fx(x)\n",
    "    return wrapper\n",
    "@funct\n",
    "def fact(x):\n",
    "    if x==0 or x==1:\n",
    "        return 1\n",
    "    else:\n",
    "        return x* fact(x-1)\n",
    "\n",
    "\n",
    "num=int(input(\"Enter natural number:\"))\n",
    "\n",
    "result=fact(num)\n",
    "\n",
    "if num >=0:\n",
    "    print(f\"Factorial of {num} is :{result}\")"
   ]
  },
  {
   "cell_type": "markdown",
   "metadata": {},
   "source": [
    "13. Create lambda function for sorting of the string"
   ]
  },
  {
   "cell_type": "code",
   "execution_count": 85,
   "metadata": {},
   "outputs": [
    {
     "name": "stdout",
     "output_type": "stream",
     "text": [
      "ahsy\n"
     ]
    }
   ],
   "source": [
    "sort = lambda s: ''.join(sorted(s))\n",
    "st = \"yash\"\n",
    "result = sort(st)\n",
    "print(result)"
   ]
  },
  {
   "cell_type": "markdown",
   "metadata": {},
   "source": [
    "14. Create a generator which will generate runtime unique value as ABC0001, ABC0002, ABC0003…"
   ]
  },
  {
   "cell_type": "code",
   "execution_count": 86,
   "metadata": {},
   "outputs": [
    {
     "name": "stdout",
     "output_type": "stream",
     "text": [
      "ABC0001\n",
      "ABC0002\n",
      "ABC0003\n",
      "ABC0004\n"
     ]
    }
   ],
   "source": [
    "def unique_id_generator():\n",
    "    count = 1\n",
    "    while True:\n",
    "        yield f\"ABC{count:04d}\"  \n",
    "        count += 1\n",
    "\n",
    "gen = unique_id_generator()\n",
    "\n",
    "print(next(gen))\n",
    "print(next(gen))  \n",
    "print(next(gen))  \n",
    "print(next(gen))  \n"
   ]
  },
  {
   "cell_type": "markdown",
   "metadata": {},
   "source": [
    "15. Create a decorator to check if all input values are alpha numeric and based on it check PAN detail AAAAA1111X , rec.no first 3 chr next 5 number"
   ]
  },
  {
   "cell_type": "code",
   "execution_count": 109,
   "metadata": {},
   "outputs": [],
   "source": [
    "def decorator(fx):\n",
    "    def wrapper(a):\n",
    "        if a.isalnum():\n",
    "            print('Validation Started..')\n",
    "            # return \n",
    "            fx(a)\n",
    "            print('Validation Completed')\n",
    "    return wrapper\n"
   ]
  },
  {
   "cell_type": "code",
   "execution_count": 110,
   "metadata": {},
   "outputs": [],
   "source": [
    "import re"
   ]
  },
  {
   "cell_type": "code",
   "execution_count": 111,
   "metadata": {},
   "outputs": [
    {
     "name": "stdout",
     "output_type": "stream",
     "text": [
      "Validation Started..\n",
      "Valid Password:  AAAAA1234A\n",
      "Validation Completed\n"
     ]
    }
   ],
   "source": [
    "@decorator\n",
    "def validation(a):\n",
    "    try:\n",
    "        # pattern=\"^[a-z]*[A-Z][a-z].*[0-9][0-9]$\"\n",
    "        pattern = r'[A-Z]{5}\\d{4}[A-Z]{1}$'\n",
    "        if re.fullmatch(pattern, a):\n",
    "            print(\"Valid Password: \", a)\n",
    "        else:\n",
    "            print(\"Invalid Password\")\n",
    "    except Exception as e:\n",
    "        print(f\"{e}\")\n",
    "\n",
    "\n",
    "validation(\"AAAAA1234A\")\n"
   ]
  },
  {
   "cell_type": "markdown",
   "metadata": {},
   "source": [
    "16. Accept 2 values from user and perform all arithmetic operations and return all"
   ]
  },
  {
   "cell_type": "code",
   "execution_count": 114,
   "metadata": {},
   "outputs": [
    {
     "name": "stdout",
     "output_type": "stream",
     "text": [
      "Addition: 10.0\n",
      "Substraction: 0.0\n",
      "Multiplication: 25.0\n",
      "Division: 1.0\n",
      "floor division: 1.0\n"
     ]
    }
   ],
   "source": [
    "def calculations():\n",
    "    print(\"Addition:\",a+b)\n",
    "    print(\"Substraction:\",a-b)\n",
    "    print(\"Multiplication:\",a*b)\n",
    "    print(\"Division:\",a/b)\n",
    "    print(\"floor division:\",a//b)\n",
    "\n",
    "a=float(input(\"Enter the Value of a:\"))\n",
    "b=float(input(\"Enter the Value of b:\"))\n",
    "\n",
    "calculations()\n",
    "\n"
   ]
  },
  {
   "cell_type": "markdown",
   "metadata": {},
   "source": [
    "17. Ask user to enter any 3 input e.g name, marks , mobile_num\n",
    "\n",
    "if name is with other special characters then it should not not ask for next makrs input\n",
    "\n",
    "note:\n",
    "\n",
    "o Create separate functions for validation of every variable\n",
    "\n",
    "o Every single block should have proper exception\n",
    "\n",
    "o Every function must have the docstring\n",
    "\n",
    "o Once the validation is done dictionary has to be created and store the dictionary to one txt file"
   ]
  },
  {
   "cell_type": "code",
   "execution_count": null,
   "metadata": {},
   "outputs": [
    {
     "name": "stdout",
     "output_type": "stream",
     "text": [
      "Valid:  Yash Vyawhare\n",
      "Invalid Marks: 78\n",
      "Invalid Number format 4578963215\n"
     ]
    }
   ],
   "source": [
    "def validatename():\n",
    "    try:\n",
    "        pattern=\"^[A-Z][A-z]*( [A-Z][a-z]*[a-z])$\"\n",
    "        N=input(\"Enter the Name: \")\n",
    "        re.match(pattern,N)\n",
    "        if re.match(pattern, N):\n",
    "            print(\"Valid: \",N)\n",
    "        else:\n",
    "            print(\"Invalid name format\")\n",
    "    except Exception as e:\n",
    "        print(f\"{e}\")\n",
    "    \n",
    "#s=input(\"Enter valid name:\")\n",
    "validatename()\n",
    "\n",
    "def validatemarks():\n",
    "    try:\n",
    "        pattern=\"^([0-100])$\"\n",
    "        M=input(\"Enter the Marks: \")\n",
    "        re.match(pattern,M)\n",
    "        if re.match(pattern, M):\n",
    "            print(\"Valid: \",M)\n",
    "        else:\n",
    "            print(\"Invalid Marks:\",M)\n",
    "    except Exception as e:\n",
    "        print(f\"{e}\")\n",
    "    \n",
    "#s=input(\"Enter valid name:\")\n",
    "validatemarks()\n",
    "\n",
    "def validatenumber():\n",
    "    try:\n",
    "        pattern=\"^([6-9][0-9]{9})$\"\n",
    "        Mo=input(\"Enter the Mobile Number \")\n",
    "        re.match(pattern,Mo)\n",
    "        if re.match(pattern, Mo):\n",
    "            print(\"Valid Mobile Number: \",Mo)\n",
    "        else:\n",
    "            print(\"Invalid Number format:\",Mo)\n",
    "    except Exception as e:\n",
    "        print(f\"{e}\")\n",
    "    \n",
    "#s=input(\"Enter valid name:\")\n",
    "validatenumber()\n",
    "\n",
    "\n"
   ]
  },
  {
   "cell_type": "markdown",
   "metadata": {},
   "source": [
    "18. Segregate file in small , medium and large size in different folder\n",
    "\n",
    "o filesize less than and equal to 10KB is small file\n",
    "\n",
    "o filesize more than 10 KB is the medium file\n",
    "\n",
    "o filesize more than 40 kb is the large file"
   ]
  },
  {
   "cell_type": "code",
   "execution_count": 131,
   "metadata": {},
   "outputs": [],
   "source": [
    "import os\n",
    "import shutil"
   ]
  },
  {
   "cell_type": "code",
   "execution_count": 132,
   "metadata": {},
   "outputs": [
    {
     "name": "stdout",
     "output_type": "stream",
     "text": [
      "C:\\Users\\91879\\Downloads\\YASH BIZMETRIC\\08-01-2025 python.ipynb\n",
      "C:\\Users\\91879\\Downloads\\YASH BIZMETRIC\\08-01-2025 python.ipynb 33.896 kb\n",
      "medium file\n",
      "C:\\Users\\91879\\Downloads\\YASH BIZMETRIC\\BVF.pdf\n",
      "C:\\Users\\91879\\Downloads\\YASH BIZMETRIC\\BVF.pdf 1082.896 kb\n",
      "large file\n",
      "C:\\Users\\91879\\Downloads\\YASH BIZMETRIC\\GNC_7916.jpg\n",
      "C:\\Users\\91879\\Downloads\\YASH BIZMETRIC\\GNC_7916.jpg 81.208 kb\n",
      "large file\n",
      "C:\\Users\\91879\\Downloads\\YASH BIZMETRIC\\GRADUATION CERTIFICATE & RESULT.pdf\n",
      "C:\\Users\\91879\\Downloads\\YASH BIZMETRIC\\GRADUATION CERTIFICATE & RESULT.pdf 2510.349 kb\n",
      "large file\n",
      "C:\\Users\\91879\\Downloads\\YASH BIZMETRIC\\NDA (Biz-Metric) (1).pdf\n",
      "C:\\Users\\91879\\Downloads\\YASH BIZMETRIC\\NDA (Biz-Metric) (1).pdf 479.261 kb\n",
      "large file\n",
      "C:\\Users\\91879\\Downloads\\YASH BIZMETRIC\\SERVICE AGREEMENT.docx\n",
      "C:\\Users\\91879\\Downloads\\YASH BIZMETRIC\\SERVICE AGREEMENT.docx 32.672 kb\n",
      "medium file\n",
      "C:\\Users\\91879\\Downloads\\YASH BIZMETRIC\\yash adhar.pdf\n",
      "C:\\Users\\91879\\Downloads\\YASH BIZMETRIC\\yash adhar.pdf 229.829 kb\n",
      "large file\n",
      "C:\\Users\\91879\\Downloads\\YASH BIZMETRIC\\YASH PAN20240821 (1).jpg\n",
      "C:\\Users\\91879\\Downloads\\YASH BIZMETRIC\\YASH PAN20240821 (1).jpg 110.68 kb\n",
      "large file\n",
      "C:\\Users\\91879\\Downloads\\YASH BIZMETRIC\\YASH PHOTO PASS.pdf\n",
      "C:\\Users\\91879\\Downloads\\YASH BIZMETRIC\\YASH PHOTO PASS.pdf 52.759 kb\n",
      "large file\n",
      "C:\\Users\\91879\\Downloads\\YASH BIZMETRIC\\YASH VYAWHARE DOCUMENTS.zip\n",
      "C:\\Users\\91879\\Downloads\\YASH BIZMETRIC\\YASH VYAWHARE DOCUMENTS.zip 4337.483 kb\n",
      "large file\n"
     ]
    }
   ],
   "source": [
    "\n",
    "for i in os.listdir(\"C:\\\\Users\\\\91879\\\\Downloads\\\\YASH BIZMETRIC\"):\n",
    "   \n",
    "    filename=\"C:\\\\Users\\\\91879\\\\Downloads\\\\YASH BIZMETRIC\\\\\"+i\n",
    "    print(filename)\n",
    "    sz=os.stat(filename).st_size/1000\n",
    "    print(filename,sz,\"kb\")\n",
    "\n",
    "    if sz <= 10:\n",
    "        shutil.copy(filename,\"D:\\\\biz_task\\\\small\")\n",
    "        print(\"small file\")\n",
    "    elif 10 < sz <=40:\n",
    "        shutil.copy(filename,\"D:\\\\biz_task\\\\medium\")    \n",
    "        print(\"medium file\")\n",
    "    else:\n",
    "        shutil.copy(filename,\"D:\\\\biz_task\\\\large\")\n",
    "        print(\"large file\")    "
   ]
  },
  {
   "cell_type": "markdown",
   "metadata": {},
   "source": [
    "19. In the hotel user is entering the details of menu, quantity and printing the bill. number of menu may varies with customer's order"
   ]
  },
  {
   "cell_type": "code",
   "execution_count": 135,
   "metadata": {},
   "outputs": [
    {
     "name": "stdout",
     "output_type": "stream",
     "text": [
      "\n",
      "Sr.  Menu      Quantity   Price      Total\n",
      "============================================================\n",
      "1    idli                      5          120.00     600.00    \n",
      "2    dosa                      6          74.00      444.00    \n",
      "============================================================\n",
      "Grand Total:                                       1044.00   \n"
     ]
    }
   ],
   "source": [
    "items = []\n",
    "for i in range(int(input(\"Enter the number of items: \"))):\n",
    "    desc = input(f\"\\nItem {i + 1} Menu: \")\n",
    "    qty = int(input(\"Quantity: \"))\n",
    "    price = float(input(\"Price: \"))\n",
    "    items.append({\"Menu\": desc, \"quantity\": qty, \"price\": price})\n",
    "\n",
    "print(\"\\nSr.  Menu      Quantity   Price      Total\")\n",
    "print(\"=\" * 60)\n",
    "\n",
    "grand_total = 0\n",
    "for sr_no, item in enumerate(items, start=1):\n",
    "    total = item[\"quantity\"] * item[\"price\"]\n",
    "    grand_total += total\n",
    "    print(f\"{sr_no:<4} {item['Menu']:<25} {item['quantity']:<10} {item['price']:<10.2f} {total:<10.2f}\")\n",
    "\n",
    "print(\"=\" * 60)\n",
    "print(f\"{'Grand Total:':<50} {grand_total:<10.2f}\")"
   ]
  },
  {
   "cell_type": "code",
   "execution_count": 136,
   "metadata": {},
   "outputs": [
    {
     "name": "stdout",
     "output_type": "stream",
     "text": [
      " | Welcome Hotel Name |\n",
      "| 2025-02-14   recpt: 101 |\n",
      "------------------------------\n",
      "|SR.  Menu  qnt  price |\n",
      "| 1.  idli  2   40    |\n",
      "| 2.  dosa  2   40    |\n",
      "------------------------------\n",
      "| total       80     |\n",
      "| including GST 10% = 8 |\n",
      "------------------------------\n",
      "Bill saved as 'grocery_bill.txt'.\n"
     ]
    }
   ],
   "source": [
    "import datetime\n",
    "\n",
    "# Get date and receipt number\n",
    "date = datetime.datetime.now().strftime(\"%Y-%m-%d\")\n",
    "recpt_no = 101\n",
    "\n",
    "# Input items\n",
    "items = []\n",
    "for i in range(int(input(\"Enter number of items: \"))):\n",
    "    menu = input(\"\\nMenu: \")\n",
    "    qty = int(input(\"Quantity: \"))\n",
    "    price = int(input(\"Price: \"))\n",
    "    items.append((menu, qty, price * qty))\n",
    "\n",
    "# Calculate totals\n",
    "total = sum(item[2] for item in items)\n",
    "gst = total * 0.10\n",
    "final_total = total + gst\n",
    "\n",
    "# Generate bill\n",
    "bill = [\n",
    "    \" | Welcome Hotel Name |\",\n",
    "    f\"| {date}   recpt: {recpt_no} |\",\n",
    "    \"-\" * 30,\n",
    "    \"|SR.  Menu  qnt  price |\"\n",
    "]\n",
    "\n",
    "for i, (menu, qty, price) in enumerate(items, 1):\n",
    "    bill.append(f\"| {i}.  {menu:<5} {qty:<3} {price:<5} |\")\n",
    "\n",
    "bill += [\n",
    "    \"-\" * 30,\n",
    "    f\"| total       {total:<6} |\",\n",
    "    f\"| including GST 10% = {int(gst)} |\",\n",
    "    \"-\" * 30\n",
    "]\n",
    "\n",
    "# Print & Save Bill\n",
    "print(\"\\n\".join(bill))\n",
    "with open(\"grocery_bill.txt\", \"w\") as f:\n",
    "    f.write(\"\\n\".join(bill))\n",
    "\n",
    "print(\"Bill saved as 'grocery_bill.txt'.\")\n"
   ]
  },
  {
   "cell_type": "markdown",
   "metadata": {},
   "source": [
    "20. Ask user to enter the valid file path and check which word is having more repetition in the file"
   ]
  },
  {
   "cell_type": "code",
   "execution_count": null,
   "metadata": {},
   "outputs": [],
   "source": [
    "import re\n",
    "from collections import Counter\n",
    "\n",
    "file_path = input(\"Enter the valid file path: \").strip()\n",
    "\n",
    "with open(file_path, 'r') as f:\n",
    "    text = f.read()\n",
    "\n",
    "words = re.findall(r'\\b\\w+\\b',text.lower())      ## text.lower remove punctuation and convert to lowercase)\n",
    "\n",
    "# Count word occurrences\n",
    "word_counts = Counter(words)\n",
    "\n",
    "# Find the most repeated word\n",
    "most_common_word, highest_count = word_counts.most_common(1)[0]\n",
    "\n",
    "print(f\"The most repeated word is '{most_common_word}' with {highest_count} occurrences.\")\n"
   ]
  },
  {
   "cell_type": "markdown",
   "metadata": {},
   "source": [
    "21. Create a function which will accept the word and the file path and returns the dictionary as {word: occurances}"
   ]
  },
  {
   "cell_type": "code",
   "execution_count": null,
   "metadata": {},
   "outputs": [],
   "source": [
    "import re\n",
    "\n",
    "def count_word_get_instances(file_path, search_word):\n",
    "    with open(file_path, 'r') as f: \n",
    "        text = f.read()\n",
    "        \n",
    "    word_count = len(re.findall(rf'\\b{re.escape(search_word)}\\b', text, re.IGNORECASE))\n",
    "    \n",
    "    return {search_word: word_count}  \n",
    "\n",
    "\n",
    "file_path = \"C:\\\\Users\\\\Administrator\\\\Downloads\\\\file.txt\"  \n",
    "search_word = input(\"Enter the word you want to count: \").strip()  \n",
    "\n",
    "\n",
    "result = count_word_get_instances(file_path, search_word)  \n",
    "print(result)  \n"
   ]
  },
  {
   "cell_type": "markdown",
   "metadata": {},
   "source": [
    "22. Create a function which will accept one file and returns all occurrences of the word\n",
    "\n",
    "{‘market’ : 3, ‘is’:5, ‘new’:2}"
   ]
  },
  {
   "cell_type": "code",
   "execution_count": null,
   "metadata": {},
   "outputs": [],
   "source": [
    "def count_word_occurrences(file_path):\n",
    "    with open(\"C:\\\\Users\\\\Administrator\\\\Downloads\\\\file.txt\" , 'r') as f:\n",
    "        text = f.read().lower()  # Convert to lowercase for case-insensitive counting\n",
    "\n",
    "    words = re.findall(r'\\b\\w+\\b', text) \n",
    "    word_counts = Counter(words) \n",
    "\n",
    "    return dict(word_counts)  # Convert Counter object to dictionary\n",
    "\n",
    "result = count_word_occurrences(file_path)\n",
    "print(result)  "
   ]
  },
  {
   "cell_type": "code",
   "execution_count": null,
   "metadata": {},
   "outputs": [],
   "source": [
    "import re\n",
    "from collections import Counter\n",
    "\n",
    "file_path = \"C:\\\\Users\\\\Administrator\\\\Downloads\\\\file.txt\" \n",
    "\n",
    "def count_word_occurrences(file_path):\n",
    "    try:\n",
    "        with open(f, 'r', encoding=\"utf-8\") as f:\n",
    "            text = f.read().lower()  # Convert to lowercase for case-insensitive counting\n",
    "\n",
    "        words = re.findall(r'\\b\\w+\\b', text)  \n",
    "        word_counts = Counter(words)  \n",
    "\n",
    "        return dict(word_counts)  \n",
    "    \n",
    "    except FileNotFoundError:\n",
    "        print(f\"Error: The file '{file_path}' was not found.\")\n",
    "        return None\n",
    "    \n",
    "    except Exception as e:\n",
    "        print(f\"An unexpected error occurred: {e}\")\n",
    "        return None\n",
    "\n",
    "\n",
    "result = count_word_occurrences(file_path)\n",
    "\n",
    "if result is not None:\n",
    "    print(result)  # Print word occurrences"
   ]
  },
  {
   "cell_type": "markdown",
   "metadata": {},
   "source": [
    "23. Based on logic mentioned in question number 8 create the class"
   ]
  },
  {
   "cell_type": "code",
   "execution_count": null,
   "metadata": {},
   "outputs": [],
   "source": [
    "class DictionaryManager:\n",
    "    def __init__(self):\n",
    "        self.D1 = {}  \n",
    "    def add_entries(self, n):\n",
    "        for _ in range(n):\n",
    "            key = input(\"Enter key: \")\n",
    "            value = input(\"Enter value: \")\n",
    "            self.D1[key] = value  \n",
    "\n",
    "    def display_dict(self):\n",
    "        for key, value in self.D1.items():\n",
    "            print(f\"Key: {key}, Value: {value}\")\n",
    "\n",
    "dict_manager = DictionaryManager()\n",
    "n = int(input(\"Enter the number of entries: \")) \n",
    "\n",
    "dict_manager.add_entries(n)  \n",
    "dict_manager.display_dict()  "
   ]
  },
  {
   "cell_type": "markdown",
   "metadata": {},
   "source": [
    "24. Ask user to enter the folder path. Folder may contain more than one file and with different extensions. Read only text file and return the more repetitive word"
   ]
  },
  {
   "cell_type": "code",
   "execution_count": 2,
   "metadata": {},
   "outputs": [
    {
     "ename": "OSError",
     "evalue": "[WinError 123] The filename, directory name, or volume label syntax is incorrect: '\"C:\\\\Users\\\\91879\\\\OneDrive\\\\Documents\\\\repeatation.txt\"'",
     "output_type": "error",
     "traceback": [
      "\u001b[1;31m---------------------------------------------------------------------------\u001b[0m",
      "\u001b[1;31mOSError\u001b[0m                                   Traceback (most recent call last)",
      "Cell \u001b[1;32mIn[2], line 9\u001b[0m\n\u001b[0;32m      5\u001b[0m folder \u001b[38;5;241m=\u001b[39m \u001b[38;5;28minput\u001b[39m(\u001b[38;5;124m\"\u001b[39m\u001b[38;5;124mEnter folder path: \u001b[39m\u001b[38;5;124m\"\u001b[39m)\n\u001b[0;32m      7\u001b[0m word_count \u001b[38;5;241m=\u001b[39m Counter()\n\u001b[1;32m----> 9\u001b[0m \u001b[38;5;28;01mfor\u001b[39;00m file \u001b[38;5;129;01min\u001b[39;00m \u001b[43mos\u001b[49m\u001b[38;5;241;43m.\u001b[39;49m\u001b[43mlistdir\u001b[49m\u001b[43m(\u001b[49m\u001b[43mfolder\u001b[49m\u001b[43m)\u001b[49m:\n\u001b[0;32m     10\u001b[0m     \u001b[38;5;28;01mif\u001b[39;00m file\u001b[38;5;241m.\u001b[39mendswith(\u001b[38;5;124m\"\u001b[39m\u001b[38;5;124m.txt\u001b[39m\u001b[38;5;124m\"\u001b[39m):\n\u001b[0;32m     11\u001b[0m         \u001b[38;5;28;01mwith\u001b[39;00m \u001b[38;5;28mopen\u001b[39m(os\u001b[38;5;241m.\u001b[39mpath\u001b[38;5;241m.\u001b[39mjoin(folder, file), \u001b[38;5;124m\"\u001b[39m\u001b[38;5;124mr\u001b[39m\u001b[38;5;124m\"\u001b[39m) \u001b[38;5;28;01mas\u001b[39;00m f:\n",
      "\u001b[1;31mOSError\u001b[0m: [WinError 123] The filename, directory name, or volume label syntax is incorrect: '\"C:\\\\Users\\\\91879\\\\OneDrive\\\\Documents\\\\repeatation.txt\"'"
     ]
    }
   ],
   "source": [
    "import os\n",
    "import re\n",
    "from collections import Counter\n",
    "\n",
    "folder = input(\"Enter folder path: \")\n",
    "\n",
    "word_count = Counter()\n",
    "\n",
    "for file in os.listdir(folder):\n",
    "    if file.endswith(\".txt\"):\n",
    "        with open(os.path.join(folder, file), \"r\") as f:\n",
    "            words = re.findall(r'\\b\\w+\\b', f.read().lower())\n",
    "            word_count.update(words)\n",
    "\n",
    "if word_count:\n",
    "    word, count = word_count.most_common(1)[0]\n",
    "    print(f\"Most repetitive word: '{word}' ({count} times)\")\n",
    "else:\n",
    "    print(\"No words found.\")\n"
   ]
  },
  {
   "cell_type": "markdown",
   "metadata": {},
   "source": [
    "25. Create a class for file reading"
   ]
  },
  {
   "cell_type": "code",
   "execution_count": 3,
   "metadata": {},
   "outputs": [
    {
     "name": "stdout",
     "output_type": "stream",
     "text": [
      "Error: [Errno 22] Invalid argument: '\"C:\\\\Users\\\\91879\\\\OneDrive\\\\Documents\\\\repeatation.txt\"'\n"
     ]
    }
   ],
   "source": [
    "class FileReader:\n",
    "\n",
    "    def __init__(self, filename):\n",
    "        self.filename = filename\n",
    "\n",
    "    def read_file(self):\n",
    "        try:\n",
    "            with open(self.filename, \"r\", encoding=\"utf-8\") as file:\n",
    "                return file.read() \n",
    "            \n",
    "        except FileNotFoundError:\n",
    "            return \"Error: File not found\"\n",
    "        \n",
    "        except Exception as e:\n",
    "            return f\"Error: {e}\"\n",
    "\n",
    "# Now we create an object and use the class\n",
    "file_name = input(\"Enter file name: \")\n",
    "reader = FileReader(file_name)  \n",
    "content = reader.read_file()  \n",
    "print(content)  #\n"
   ]
  },
  {
   "cell_type": "markdown",
   "metadata": {},
   "source": [
    "26. Create a function which will accept the dictionary. Dictionary may have values any date type format. If values are in integer or float then return respective key"
   ]
  },
  {
   "cell_type": "code",
   "execution_count": 4,
   "metadata": {},
   "outputs": [
    {
     "name": "stdout",
     "output_type": "stream",
     "text": [
      "Keys with numeric values: ['a', 'c', 'e']\n"
     ]
    }
   ],
   "source": [
    "def get_numeric_keys(data):\n",
    "    numeric_keys = []\n",
    "\n",
    "    for key, value in data.items():\n",
    "        if isinstance(value, (int, float)):  \n",
    "            numeric_keys.append(key)\n",
    "    return numeric_keys\n",
    "\n",
    "user_dict = {\n",
    "    \"a\": 10,\n",
    "    \"b\": \"hello\",\n",
    "    \"c\": 5.5,\n",
    "    \"d\": [1, 2, 3],\n",
    "    \"e\": 20\n",
    "}\n",
    "\n",
    "numeric_keys = get_numeric_keys(user_dict)\n",
    "print(\"Keys with numeric values:\", numeric_keys)\n"
   ]
  },
  {
   "cell_type": "markdown",
   "metadata": {},
   "source": [
    "27. Create one decorator having exception logic inside it and create another function which will refer to the decorator in case of errors\n",
    "\n",
    "e.g val_name is the function validating name but customized error should be thrown from decorator"
   ]
  },
  {
   "cell_type": "code",
   "execution_count": 5,
   "metadata": {},
   "outputs": [
    {
     "name": "stdout",
     "output_type": "stream",
     "text": [
      "Custom Error: Name should contain only alphabets.\n"
     ]
    }
   ],
   "source": [
    "def exception_handler(func):\n",
    "    def wrapper(name):\n",
    "        try:\n",
    "            return func(name)\n",
    "        except ValueError as e:\n",
    "            return f\"Custom Error: {e}\"\n",
    "    return wrapper\n",
    "\n",
    "@exception_handler\n",
    "def val_name(name):\n",
    "    if not name.isalpha():  \n",
    "        raise ValueError(\"Name should contain only alphabets.\")\n",
    "    return f\"Valid Name: {name}\"\n",
    "\n",
    "user_name = input(\"Enter your name: \")        \n",
    "print(val_name(user_name))\n"
   ]
  },
  {
   "cell_type": "markdown",
   "metadata": {},
   "source": [
    "28. Create a class User. User will be instantiated based on key available in the dictionary. If dictionary is not having the key then generate error. If dictionary is having the key then display values against the same."
   ]
  },
  {
   "cell_type": "code",
   "execution_count": 6,
   "metadata": {},
   "outputs": [
    {
     "name": "stdout",
     "output_type": "stream",
     "text": [
      "Name: Alice, Age: 30, Email: alice@example.com\n"
     ]
    }
   ],
   "source": [
    "class User:\n",
    "\n",
    "    def __init__(self, data):\n",
    "        if not all(key in data for key in [\"name\", \"age\", \"email\"]):\n",
    "            raise KeyError(\"Missing required keys: name, age, or email\")\n",
    "        self.name, self.age, self.email = data[\"name\"], data[\"age\"], data[\"email\"]\n",
    "\n",
    "    def display(self):\n",
    "        print(f\"Name: {self.name}, Age: {self.age}, Email: {self.email}\")\n",
    "\n",
    "user_info = {\"name\": \"Alice\", \"age\": 30, \"email\": \"alice@example.com\"}\n",
    "\n",
    "try:\n",
    "    user = User(user_info)\n",
    "    user.display()\n",
    "except KeyError as e:\n",
    "    print(\"Error:\", e)\n"
   ]
  },
  {
   "cell_type": "markdown",
   "metadata": {},
   "source": [
    "29. Create a class pharma. One user A will enter the medicine name and price. Another user B will generate the bill based on entry done by the first user"
   ]
  },
  {
   "cell_type": "code",
   "execution_count": 9,
   "metadata": {},
   "outputs": [
    {
     "name": "stdout",
     "output_type": "stream",
     "text": [
      "Total Bill: ₹ 220\n"
     ]
    }
   ],
   "source": [
    "class Pharma:\n",
    "    def __init__(self):\n",
    "        self.medicines = {}  \n",
    "\n",
    "    def add_medicine(self, name, price):\n",
    "        self.medicines[name] = price  \n",
    "\n",
    "    def generate_bill(self, cart):\n",
    "        total = sum(self.medicines[med] * qty for med, qty in cart.items() if med in self.medicines)\n",
    "        print(\"Total Bill: ₹\", total)\n",
    "\n",
    "pharmacy = Pharma()\n",
    "\n",
    "pharmacy.add_medicine(\"Paracetamol\", 80)\n",
    "pharmacy.add_medicine(\"Cough Syrup\", 60)\n",
    "\n",
    "user_cart = {\"Paracetamol\": 2, \"Cough Syrup\": 1}  \n",
    "pharmacy.generate_bill(user_cart)\n"
   ]
  },
  {
   "cell_type": "markdown",
   "metadata": {},
   "source": [
    "30. Read the file if the file contains number, then return the dictionary based on position and values of the number."
   ]
  },
  {
   "cell_type": "code",
   "execution_count": 12,
   "metadata": {},
   "outputs": [
    {
     "name": "stdout",
     "output_type": "stream",
     "text": [
      "{}\n"
     ]
    }
   ],
   "source": [
    "def extract_numbers(file_name):\n",
    "    numbers = {}  \n",
    "    \n",
    "    with open(file_name, \"r\") as file:\n",
    "        words = file.read().split()  \n",
    "    \n",
    "    for index, word in enumerate(words):  \n",
    "        if word.isdigit():  \n",
    "            numbers[index] = int(word)  \n",
    "    return numbers\n",
    "\n",
    "\n",
    "file_name = \"C:\\\\Users\\\\91879\\\\OneDrive\\\\Documents\\\\naive bayes.txt\"\n",
    "result = extract_numbers(file_name)\n",
    "print(result)\n"
   ]
  },
  {
   "cell_type": "markdown",
   "metadata": {},
   "source": [
    "31. Create a class for file reading file if the file contains number, then return the dictionary based on user object, having sub dictionary position and values of the number against that user file."
   ]
  },
  {
   "cell_type": "code",
   "execution_count": 13,
   "metadata": {},
   "outputs": [
    {
     "name": "stdout",
     "output_type": "stream",
     "text": [
      "{'User1': {}}\n"
     ]
    }
   ],
   "source": [
    "class FileReader:\n",
    "    def __init__(self, file_name):\n",
    "        self.file_name = file_name\n",
    "        self.numbers = {}  \n",
    "\n",
    "    def extract_numbers(self):\n",
    "        with open(self.file_name, \"r\") as file:\n",
    "            words = file.read().split()\n",
    "\n",
    "        self.numbers = {i: int(word) for i, word in enumerate(words) if word.isdigit()}\n",
    "        return self.numbers\n",
    "\n",
    "\n",
    "file1 = FileReader(r\"C:\\Users\\91879\\OneDrive\\Documents\\k near.txt\")  \n",
    "\n",
    "\n",
    "user_data = {\"User1\": file1.extract_numbers()}\n",
    "\n",
    "print(user_data)"
   ]
  },
  {
   "cell_type": "markdown",
   "metadata": {},
   "source": [
    "32. In hotel booking portal, user will enter pan card name and mobile number, store the same information into dictionary after successful booking user will get confirmation number."
   ]
  },
  {
   "cell_type": "code",
   "execution_count": 14,
   "metadata": {},
   "outputs": [
    {
     "name": "stdout",
     "output_type": "stream",
     "text": [
      "Booking successful! Your confirmation number is 2998\n"
     ]
    }
   ],
   "source": [
    "import random\n",
    "\n",
    "bookings = {}\n",
    "\n",
    "name = input(\"Enter PAN Card Name: \")\n",
    "mobile = input(\"Enter Mobile Number: \")\n",
    "\n",
    "confirmation_number = random.randint(1000, 9999)\n",
    "\n",
    "bookings[confirmation_number] = {\"Name\": name, \"Mobile\": mobile}\n",
    "\n",
    "print(f\"Booking successful! Your confirmation number is {confirmation_number}\")\n"
   ]
  },
  {
   "cell_type": "markdown",
   "metadata": {},
   "source": [
    "33. Create a super class user. Having methods register, sing in, sign out. Super class can be inherited by student, professor, admin"
   ]
  },
  {
   "cell_type": "code",
   "execution_count": 16,
   "metadata": {},
   "outputs": [
    {
     "name": "stdout",
     "output_type": "stream",
     "text": [
      "john (john@example.com) registered successfully.\n",
      "john signed in.\n",
      "john is studying.\n",
      "john signed out.\n",
      "Dr. team (team@example.com) registered successfully.\n",
      "Dr. team signed in.\n",
      "Dr. team is teaching.\n",
      "Dr. team signed out.\n",
      "Admin John (admin@example.com) registered successfully.\n",
      "Admin John signed in.\n",
      "Admin John is managing the system.\n",
      "Admin John signed out.\n"
     ]
    }
   ],
   "source": [
    "class User:\n",
    "    def __init__(self, name, email):\n",
    "        self.name = name\n",
    "        self.email = email\n",
    "    \n",
    "    def register(self):\n",
    "        print(f\"{self.name} ({self.email}) registered successfully.\")\n",
    "    \n",
    "    def sign_in(self):\n",
    "        print(f\"{self.name} signed in.\")\n",
    "    \n",
    "    def sign_out(self):\n",
    "        print(f\"{self.name} signed out.\")\n",
    "\n",
    "class Student(User):\n",
    "    def study(self):\n",
    "        print(f\"{self.name} is studying.\")\n",
    "\n",
    "class Professor(User):\n",
    "    def teach(self):\n",
    "        print(f\"{self.name} is teaching.\")\n",
    "\n",
    "class Admin(User):\n",
    "    def manage(self):\n",
    "        print(f\"{self.name} is managing the system.\")\n",
    "\n",
    "student = Student(\"john\", \"john@example.com\")\n",
    "student.register()\n",
    "student.sign_in()\n",
    "student.study()\n",
    "student.sign_out()\n",
    "\n",
    "professor = Professor(\"Dr. team\", \"team@example.com\")\n",
    "professor.register()\n",
    "professor.sign_in()\n",
    "professor.teach()\n",
    "professor.sign_out()\n",
    "\n",
    "admin = Admin(\"Admin John\", \"admin@example.com\")\n",
    "admin.register()\n",
    "admin.sign_in()\n",
    "admin.manage()\n",
    "admin.sign_out()\n"
   ]
  },
  {
   "cell_type": "code",
   "execution_count": 17,
   "metadata": {},
   "outputs": [
    {
     "name": "stdout",
     "output_type": "stream",
     "text": [
      "User registered.\n",
      "User signed in.\n",
      "User signed out.\n"
     ]
    }
   ],
   "source": [
    "class User:\n",
    "    def register(self): print(\"User registered.\")\n",
    "    def sign_in(self): print(\"User signed in.\")\n",
    "    def sign_out(self): print(\"User signed out.\")\n",
    "\n",
    "class Student(User): pass\n",
    "class Professor(User): pass\n",
    "class Admin(User): pass\n",
    "\n",
    "s = Student()\n",
    "s.register()\n",
    "s.sign_in()\n",
    "s.sign_out()\n"
   ]
  },
  {
   "cell_type": "markdown",
   "metadata": {},
   "source": [
    "34. Create suitable classes, methods and attributes for resume exchange. Employee to upload the file and the same file is visible to employer"
   ]
  },
  {
   "cell_type": "code",
   "execution_count": 18,
   "metadata": {},
   "outputs": [
    {
     "name": "stdout",
     "output_type": "stream",
     "text": [
      "Om uploaded resume: Om_resume.pdf\n",
      "Employer is viewing Om's resume: Om_resume.pdf\n"
     ]
    }
   ],
   "source": [
    "class Employee:\n",
    "    def __init__(self, name):\n",
    "        self.name = name\n",
    "        self.resume = None\n",
    "\n",
    "    def upload_resume(self, file_name):\n",
    "        self.resume = file_name\n",
    "        print(f\"{self.name} uploaded resume: {file_name}\")\n",
    "\n",
    "class Employer:\n",
    "    def view_resume(self, employee):\n",
    "        if employee.resume:\n",
    "            print(f\"Employer is viewing {employee.name}'s resume: {employee.resume}\")\n",
    "        else:\n",
    "            print(f\"No resume found for {employee.name}\")\n",
    "\n",
    "emp = Employee(\"Om\")\n",
    "emp.upload_resume(\"Om_resume.pdf\")\n",
    "\n",
    "employer = Employer()\n",
    "employer.view_resume(emp)\n"
   ]
  },
  {
   "cell_type": "markdown",
   "metadata": {},
   "source": [
    "35. Perform the database connectivity and save all employee details in the database\n",
    "\n",
    "Like name, mobile, address\n",
    "\n",
    "\n",
    "Create the proper class with methods like user information, calculate the salary, apply for the leave, view leaves, approve leaves. Records for leave application should be stored in dummy table (temporary view). Once the leave is approved then it should move to permanent table."
   ]
  },
  {
   "cell_type": "code",
   "execution_count": 20,
   "metadata": {},
   "outputs": [],
   "source": [
    "import pyodbc"
   ]
  },
  {
   "cell_type": "code",
   "execution_count": null,
   "metadata": {},
   "outputs": [],
   "source": [
    "import pyodbc\n",
    "conn=pyodbc.connect('Driver={SQL Server};'\n",
    "                    'Server=SAURABH;'\n",
    "                    'Database=Employee_details;'\n",
    "                    'Trusted_Connection=yes;')\n",
    "cursor=conn.cursor()\n",
    "cursor.execute('SELECT * FROM Employee_details.dbo.details')\n",
    "records=cursor.fetchall()\n",
    "records\n"
   ]
  },
  {
   "cell_type": "code",
   "execution_count": null,
   "metadata": {},
   "outputs": [],
   "source": [
    "def create_tables(self):\n",
    "        \"\"\"Create employee and leave tables if not exists.\"\"\"\n",
    "        self.cursor.execute('''\n",
    "            CREATE TABLE IF NOT EXISTS employees (\n",
    "                id INT AUTO_INCREMENT PRIMARY KEY,\n",
    "                name VARCHAR(255),\n",
    "                mobile VARCHAR(15),\n",
    "                address TEXT,\n",
    "                salary DECIMAL(10,2)\n",
    "            )\n",
    "        ''')\n",
    "        \n",
    "        self.cursor.execute('''\n",
    "            CREATE TABLE IF NOT EXISTS leave_temp (\n",
    "                leave_id INT AUTO_INCREMENT PRIMARY KEY,\n",
    "                emp_id INT,\n",
    "                leave_date DATE,\n",
    "                status VARCHAR(20) DEFAULT 'Pending'\n",
    "            )\n",
    "        ''')\n",
    "        \n",
    "        self.cursor.execute('''\n",
    "            CREATE TABLE IF NOT EXISTS leave_permanent (\n",
    "                leave_id INT AUTO_INCREMENT PRIMARY KEY,\n",
    "                emp_id INT,\n",
    "                leave_date DATE\n",
    "            )\n",
    "        ''')\n",
    "        self.conn.commit()\n",
    "    \n",
    "    def add_employee(self, name, mobile, address, salary):\n",
    "        \"\"\"Insert a new employee record.\"\"\"\n",
    "        sql = \"INSERT INTO employees (name, mobile, address, salary) VALUES (%s, %s, %s, %s)\"\n",
    "        self.cursor.execute(sql, (name, mobile, address, salary))\n",
    "        self.conn.commit()\n",
    "        print(\"Employee added successfully.\")\n",
    "    \n",
    "    def apply_leave(self, emp_id, leave_date):\n",
    "        \"\"\"Apply for leave (store in temporary table).\"\"\"\n",
    "        sql = \"INSERT INTO leave_temp (emp_id, leave_date) VALUES (%s, %s)\"\n",
    "        self.cursor.execute(sql, (emp_id, leave_date))\n",
    "        self.conn.commit()\n",
    "        print(\"Leave application submitted.\")\n",
    "    \n",
    "    def view_leaves(self):\n",
    "        \"\"\"View all leave applications from the temporary table.\"\"\"\n",
    "        self.cursor.execute(\"SELECT * FROM leave_temp\")\n",
    "        leaves = self.cursor.fetchall()\n",
    "        for leave in leaves:\n",
    "            print(leave)\n",
    "    \n",
    "    def approve_leave(self, leave_id):\n",
    "        \"\"\"Approve leave: Move from temporary to permanent table.\"\"\"\n",
    "        self.cursor.execute(\"SELECT emp_id, leave_date FROM leave_temp WHERE leave_id = %s\", (leave_id,))\n",
    "        leave = self.cursor.fetchone()\n",
    "        if leave:\n",
    "            emp_id, leave_date = leave\n",
    "            self.cursor.execute(\"INSERT INTO leave_permanent (emp_id, leave_date) VALUES (%s, %s)\", (emp_id, leave_date))\n",
    "            self.cursor.execute(\"DELETE FROM leave_temp WHERE leave_id = %s\", (leave_id,))\n",
    "            self.conn.commit()\n",
    "            print(\"Leave approved and moved to permanent records.\")\n",
    "        else:\n",
    "            print(\"Leave not found.\")\n",
    "    \n",
    "    def calculate_salary(self, emp_id):\n",
    "        \"\"\"Retrieve and display salary for a given employee.\"\"\"\n",
    "        self.cursor.execute(\"SELECT salary FROM employees WHERE id = %s\", (emp_id,))\n",
    "        salary = self.cursor.fetchone()\n",
    "        if salary:\n",
    "            print(f\"Salary for Employee ID {emp_id}: Rs.{salary[0]}\")\n",
    "        else:\n",
    "            print(\"Employee not found.\")\n",
    "    \n",
    "    def close_connection(self):\n",
    "        self.cursor.close()\n",
    "        self.conn.close()\n",
    "        print(\"Database connection closed.\")\n",
    "\n",
    "db = EmployeeDatabase()\n",
    "db.add_employee(\"John Doe\", \"9876543210\", \"123 Main St\", 50000)\n",
    "db.apply_leave(1, \"2025-02-20\")\n",
    "db.view_leaves()\n",
    "db.approve_leave(1)\n",
    "db.calculate_salary(1)\n",
    "db.close_connection()"
   ]
  }
 ],
 "metadata": {
  "kernelspec": {
   "display_name": "Python 3",
   "language": "python",
   "name": "python3"
  },
  "language_info": {
   "codemirror_mode": {
    "name": "ipython",
    "version": 3
   },
   "file_extension": ".py",
   "mimetype": "text/x-python",
   "name": "python",
   "nbconvert_exporter": "python",
   "pygments_lexer": "ipython3",
   "version": "3.13.0"
  }
 },
 "nbformat": 4,
 "nbformat_minor": 2
}
