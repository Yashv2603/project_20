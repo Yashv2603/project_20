{
 "cells": [
  {
   "cell_type": "markdown",
   "metadata": {},
   "source": [
    "**QUE 4** \tBased on database ask user to enter the values and store the same in the variable with validation"
   ]
  },
  {
   "cell_type": "code",
   "execution_count": 2,
   "metadata": {},
   "outputs": [
    {
     "name": "stdout",
     "output_type": "stream",
     "text": [
      "Valid:  YASH VYAWHARE\n"
     ]
    }
   ],
   "source": [
    "import re\n",
    "##name validation\n",
    "pattern = r\"^[A-Z]+( [A-Z]+)*$\"\n",
    "\n",
    "from_string = input(\"Enter the name (AAAAA AAAAA): \")\n",
    "\n",
    "if re.match(pattern, from_string):\n",
    "    print(\"Valid: \", from_string)\n",
    "else:\n",
    "    print(\"Invalid name format\")\n",
    "\n"
   ]
  },
  {
   "cell_type": "code",
   "execution_count": 3,
   "metadata": {},
   "outputs": [
    {
     "name": "stdout",
     "output_type": "stream",
     "text": [
      "Valid: ninad15@gmail.com\n"
     ]
    }
   ],
   "source": [
    "##email validation\n",
    "pattern=\"^[a-z,0-9]*.[a-z]*.com$\"    \n",
    "from_string=input(\"Enter the mail \")\n",
    "re.match(pattern,from_string)\n",
    "if re.match(pattern,from_string):\n",
    "    print(\"Valid:\",from_string)\n",
    "else:\n",
    "    print(\"Invalid email\")\n"
   ]
  },
  {
   "cell_type": "code",
   "execution_count": 4,
   "metadata": {},
   "outputs": [
    {
     "name": "stdout",
     "output_type": "stream",
     "text": [
      "Invalid mobile number\n"
     ]
    }
   ],
   "source": [
    "##Mobile validation\n",
    "pattern=\"^[6-9][0-9]{9}$\"\n",
    "from_string=input(\"Enter the mobile number \")\n",
    "re.match(pattern,from_string)\n",
    "if re.match(pattern,from_string):\n",
    "    print(\"Valid:\",from_string)\n",
    "else:\n",
    "    print(\"Invalid mobile number\")\n",
    "\n"
   ]
  },
  {
   "cell_type": "markdown",
   "metadata": {},
   "source": [
    "**QUE 8** Based on the modules generate proper logger to all files and use proper classes and implement encapsulation, abstract classes, inheritance and polymorphism wherever it is needed.\n",
    "\n"
   ]
  },
  {
   "cell_type": "code",
   "execution_count": 1,
   "metadata": {},
   "outputs": [
    {
     "name": "stdout",
     "output_type": "stream",
     "text": [
      "Your age is: 21 years\n"
     ]
    }
   ],
   "source": [
    "import logging\n",
    "from datetime import datetime\n",
    "\n",
    "\n",
    "logging.basicConfig(\n",
    "    level=logging.INFO,  \n",
    "    format=\"%(asctime)s - %(levelname)s - %(message)s\",\n",
    "    filename=\"app.log\",  \n",
    "    filemode=\"a\"         \n",
    ")\n",
    "\n",
    "def calculate_age(dob):\n",
    "    today = datetime.today()\n",
    "    age = today.year - dob.year\n",
    "    if (today.month, today.day) < (dob.month, dob.day):\n",
    "        age -= 1\n",
    "    return age\n",
    "\n",
    "\n",
    "dob_input = input(\"Enter your Date of Birth (YYYY-MM-DD): \")\n",
    "try:\n",
    "    dob = datetime.strptime(dob_input, \"%Y-%m-%d\") \n",
    "    age = calculate_age(dob)\n",
    "    print(f\"Your age is: {age} years\")\n",
    "    logging.info(f\"Successfully calculated age: {age} years for DOB {dob_input}\")\n",
    "except ValueError:\n",
    "    print(\"Invalid Date of Birth format. Please use YYYY-MM-DD.\")\n",
    "    logging.error(f\"Invalid DOB format entered: {dob_input}\")\n"
   ]
  }
 ],
 "metadata": {
  "kernelspec": {
   "display_name": "Python 3",
   "language": "python",
   "name": "python3"
  },
  "language_info": {
   "codemirror_mode": {
    "name": "ipython",
    "version": 3
   },
   "file_extension": ".py",
   "mimetype": "text/x-python",
   "name": "python",
   "nbconvert_exporter": "python",
   "pygments_lexer": "ipython3",
   "version": "3.13.0"
  }
 },
 "nbformat": 4,
 "nbformat_minor": 2
}
