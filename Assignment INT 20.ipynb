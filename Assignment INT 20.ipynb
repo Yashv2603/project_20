{
 "cells": [
  {
   "cell_type": "markdown",
   "metadata": {},
   "source": [
    "**QUE 1** Create the list of mix element by asking user to enter the values. Segregate the mixed data type list into two different list"
   ]
  },
  {
   "cell_type": "markdown",
   "metadata": {},
   "source": []
  },
  {
   "cell_type": "code",
   "execution_count": 1,
   "metadata": {},
   "outputs": [
    {
     "name": "stdout",
     "output_type": "stream",
     "text": [
      "[10, 20, 30, [10, 20, 30]]\n"
     ]
    }
   ],
   "source": [
    "l1=[10,20,30,[10,20,30]]\n",
    "print(l1)\n"
   ]
  },
  {
   "cell_type": "code",
   "execution_count": 3,
   "metadata": {},
   "outputs": [
    {
     "data": {
      "text/plain": [
       "{1, 2}"
      ]
     },
     "execution_count": 3,
     "metadata": {},
     "output_type": "execute_result"
    }
   ],
   "source": [
    "s1={1,1,1,1,1,2,2,2,2,2}\n",
    "s1\n"
   ]
  },
  {
   "cell_type": "code",
   "execution_count": 4,
   "metadata": {},
   "outputs": [
    {
     "data": {
      "text/plain": [
       "{'a': 10, 'b': 20, 'c': 30}"
      ]
     },
     "execution_count": 4,
     "metadata": {},
     "output_type": "execute_result"
    }
   ],
   "source": [
    "d1={\"a\":10,\"b\":20,\"c\":30}\n",
    "d1\n"
   ]
  },
  {
   "cell_type": "code",
   "execution_count": 5,
   "metadata": {},
   "outputs": [
    {
     "data": {
      "text/plain": [
       "[10, 20, 30, 'NEW VALUES', [10, 20, 30]]"
      ]
     },
     "execution_count": 5,
     "metadata": {},
     "output_type": "execute_result"
    }
   ],
   "source": [
    "l1.insert(3,\"NEW VALUES\")\n",
    "l1\n"
   ]
  },
  {
   "cell_type": "code",
   "execution_count": 6,
   "metadata": {},
   "outputs": [
    {
     "data": {
      "text/plain": [
       "[10, 20, 30, 'NEW VALUES', [10, 20, 30], 'a', 'b', 'c']"
      ]
     },
     "execution_count": 6,
     "metadata": {},
     "output_type": "execute_result"
    }
   ],
   "source": [
    "l1.extend(d1)\n",
    "l1\n"
   ]
  },
  {
   "cell_type": "code",
   "execution_count": 7,
   "metadata": {},
   "outputs": [
    {
     "name": "stdout",
     "output_type": "stream",
     "text": [
      "<class 'int'>\n",
      "<class 'int'>\n",
      "<class 'int'>\n",
      "<class 'str'>\n",
      "<class 'list'>\n",
      "<class 'str'>\n",
      "<class 'str'>\n",
      "<class 'str'>\n"
     ]
    }
   ],
   "source": [
    "for i in l1:\n",
    "    print(type(i))"
   ]
  },
  {
   "cell_type": "code",
   "execution_count": 8,
   "metadata": {},
   "outputs": [
    {
     "name": "stdout",
     "output_type": "stream",
     "text": [
      "<class 'list'>\n",
      "['NEW VALUES', 'a', 'b', 'c'] char\n",
      "[10, 20, 30] num\n"
     ]
    }
   ],
   "source": [
    "#list comprehension\n",
    "##for loop\n",
    "l_char=[]\n",
    "l_num=[]\n",
    "for i in l1:\n",
    "    if type(i)==str:\n",
    "        l_char.append(i)\n",
    "    elif type(i)==int:\n",
    "        l_num.append(i)\n",
    "    else:\n",
    "        print(type(i))\n",
    "print(l_char,\"char\")\n",
    "print(l_num,\"num\")"
   ]
  },
  {
   "cell_type": "markdown",
   "metadata": {},
   "source": [
    "**QUE 2** \tUser will enter the start date and end date. Ask user to enter the task to be done on weekdays. If it is weekend then no task should be allotted."
   ]
  },
  {
   "cell_type": "code",
   "execution_count": 9,
   "metadata": {},
   "outputs": [],
   "source": [
    "import pandas as pd"
   ]
  },
  {
   "cell_type": "code",
   "execution_count": 10,
   "metadata": {},
   "outputs": [],
   "source": [
    "from datetime import datetime\n",
    "startdate=\"2025-01-08\"\n",
    "enddate=\"2025-01-16\""
   ]
  },
  {
   "cell_type": "code",
   "execution_count": 11,
   "metadata": {},
   "outputs": [
    {
     "name": "stdout",
     "output_type": "stream",
     "text": [
      "2025-01-08 00:00:00\n"
     ]
    }
   ],
   "source": [
    "startdate=datetime.strptime(startdate,\"%Y-%m-%d\")\n",
    "print(startdate)"
   ]
  },
  {
   "cell_type": "code",
   "execution_count": 12,
   "metadata": {},
   "outputs": [
    {
     "name": "stdout",
     "output_type": "stream",
     "text": [
      "2025-01-16 00:00:00\n"
     ]
    }
   ],
   "source": [
    "enddate=datetime.strptime(enddate,\"%Y-%m-%d\")\n",
    "print(enddate)"
   ]
  },
  {
   "cell_type": "code",
   "execution_count": 13,
   "metadata": {},
   "outputs": [],
   "source": [
    "from datetime import date\n",
    "from datetime import timedelta"
   ]
  },
  {
   "cell_type": "code",
   "execution_count": 14,
   "metadata": {},
   "outputs": [
    {
     "name": "stdout",
     "output_type": "stream",
     "text": [
      "{'2025-01-08': '', '2025-01-09': '', '2025-01-10': '', '2025-01-11': 'No task', '2025-01-12': 'No task', '2025-01-13': '', '2025-01-14': '', '2025-01-15': '', '2025-01-16': ''}\n"
     ]
    }
   ],
   "source": [
    "task={}\n",
    "currentdate=startdate\n",
    "while currentdate<=enddate:\n",
    "    if currentdate.isoweekday()<=5:\n",
    "        task[str(currentdate.date())]=input(f\"Task for {currentdate.date()}:\")\n",
    "    else:\n",
    "        task[str(currentdate.date())]=\"No task\"\n",
    "    currentdate+=timedelta(days=1)\n",
    "print(task)"
   ]
  },
  {
   "cell_type": "markdown",
   "metadata": {},
   "source": [
    "**QUE 3** \tGenerate the bill with proper format to create the bill file. User may enter more than 1 element\n",
    "e.g.\n"
   ]
  },
  {
   "cell_type": "code",
   "execution_count": 15,
   "metadata": {},
   "outputs": [
    {
     "name": "stdout",
     "output_type": "stream",
     "text": [
      "_______________________________________________\n",
      "****  Transaction Receipt ****\n",
      "--------------------------------------------\n",
      "      Maharashtra Traffic Police     \n",
      "--------------------------------------------\n",
      "            e-challan status            \n",
      "    Registration number:MH12LD4555 \n",
      "   Date:09/01/2025    Time:13:20:21                                   \n",
      "--------------------------------------------\n",
      "   Sno.        Challan no     Amount                                  \n",
      "    1         NSK001546745    1300                                    \n",
      "    2         NSK001546746     250                                    \n",
      "--------------------------------------------\n",
      "  Total                       1550                     \n",
      "_______________________________________________\n"
     ]
    }
   ],
   "source": [
    "##Print E-challan\n",
    "print(\"_______________________________________________\")\n",
    "print(\"{:*^30}\".format(\"  Transaction Receipt \"))\n",
    "print(\"--------------------------------------------\")\n",
    "print(\"{:^10}\".format(\"      Maharashtra Traffic Police     \"))\n",
    "print(\"--------------------------------------------\")\n",
    "print(\"{:^40}\".format(\"  e-challan status  \"))\n",
    "print(\"{:^20}\".format(\"    Registration number:MH12LD4555 \"))\n",
    "print((\"{:^20}\".format(\" Date:09/01/2025\" )) + (\"{:50}\".format(\"  Time:13:20:21\"  )))\n",
    "print(\"--------------------------------------------\")\n",
    "print((\"{:^10}\".format(\"Sno.\")) +(\"{:^20}\".format(\"Challan no\"))+ (\"{:40}\".format(\"Amount\")))\n",
    "print((\"{:^10}\".format(\" 1 \")) +(\"{:^20}\".format(\"NSK001546745\"))+ (\"{:40}\".format(\"1300\")))\n",
    "print((\"{:^10}\".format(\" 2 \")) +(\"{:^20}\".format(\"NSK001546746\"))+ (\"{:40}\".format(\" 250\")))\n",
    "\n",
    "print(\"--------------------------------------------\")\n",
    "print((\"{:^10}\".format(\"Total\"))+(\"{:^45}\".format(\"1550\")))\n",
    "print(\"_______________________________________________\")"
   ]
  },
  {
   "cell_type": "markdown",
   "metadata": {},
   "source": [
    "**QUE 4**"
   ]
  },
  {
   "cell_type": "code",
   "execution_count": 14,
   "metadata": {},
   "outputs": [
    {
     "name": "stdout",
     "output_type": "stream",
     "text": [
      "Invalid name format\n"
     ]
    }
   ],
   "source": [
    "import re\n",
    "##name validation\n",
    "pattern = r\"^[A-Z]+( [A-Z]+)*$\"\n",
    "\n",
    "from_string = input(\"Enter the name (AAAAA AAAAA): \")\n",
    "\n",
    "if re.match(pattern, from_string):\n",
    "    print(\"Valid: \", from_string)\n",
    "else:\n",
    "    print(\"Invalid name format\")\n",
    "\n"
   ]
  },
  {
   "cell_type": "code",
   "execution_count": 16,
   "metadata": {},
   "outputs": [
    {
     "name": "stdout",
     "output_type": "stream",
     "text": [
      "Valid: ninadsoman15@gmail.com\n"
     ]
    }
   ],
   "source": [
    "##email validation\n",
    "pattern=\"^[a-z,0-9]*.[a-z]*.com$\"    \n",
    "from_string=input(\"Enter the mail \")\n",
    "re.match(pattern,from_string)\n",
    "if re.match(pattern,from_string):\n",
    "    print(\"Valid:\",from_string)\n",
    "else:\n",
    "    print(\"Invalid email\")\n"
   ]
  },
  {
   "cell_type": "code",
   "execution_count": 19,
   "metadata": {},
   "outputs": [
    {
     "name": "stdout",
     "output_type": "stream",
     "text": [
      "Valid: 8793497543\n"
     ]
    }
   ],
   "source": [
    "##Mobile validation\n",
    "pattern=\"^[6-9][0-9]{9}$\"\n",
    "from_string=input(\"Enter the mobile number \")\n",
    "re.match(pattern,from_string)\n",
    "if re.match(pattern,from_string):\n",
    "    print(\"Valid:\",from_string)\n",
    "else:\n",
    "    print(\"Invalid mobile number\")\n",
    "\n"
   ]
  },
  {
   "cell_type": "markdown",
   "metadata": {},
   "source": [
    "**QUE 5** Create lambda function for your data"
   ]
  },
  {
   "cell_type": "code",
   "execution_count": 6,
   "metadata": {},
   "outputs": [
    {
     "name": "stdout",
     "output_type": "stream",
     "text": [
      "YASH\n",
      "You are not eligible\n"
     ]
    }
   ],
   "source": [
    "valid_name= lambda x:x.isalpha()\n",
    "valid_age= lambda x: x>=18 and x<=40\n",
    "\n",
    "name=input(\"Enter the name:\")\n",
    "if valid_name(name):\n",
    "    print(name)\n",
    "    \n",
    "else:\n",
    "    print(\"Invalid Name, Please enter valid name\")\n",
    "    \n",
    "age=int(input(\"Enter the age:\"))\n",
    "if valid_age(age):\n",
    "    print(\"Eligible\",age)\n",
    "else:\n",
    "    print(\"You are not eligible\")"
   ]
  },
  {
   "cell_type": "markdown",
   "metadata": {},
   "source": [
    "**QUE 6**  Calculate the age based on the date entered"
   ]
  },
  {
   "cell_type": "code",
   "execution_count": 16,
   "metadata": {},
   "outputs": [
    {
     "data": {
      "text/plain": [
       "'2003-05-26'"
      ]
     },
     "execution_count": 16,
     "metadata": {},
     "output_type": "execute_result"
    }
   ],
   "source": [
    "from datetime import datetime\n",
    "from datetime import date\n",
    "from datetime import time\n",
    "dob=\"2003-05-26\"\n",
    "dob\n"
   ]
  },
  {
   "cell_type": "code",
   "execution_count": 17,
   "metadata": {},
   "outputs": [
    {
     "name": "stdout",
     "output_type": "stream",
     "text": [
      "2003-05-26 00:00:00\n"
     ]
    }
   ],
   "source": [
    "dob=datetime.strptime(dob,\"%Y-%m-%d\")\n",
    "print(dob)"
   ]
  },
  {
   "cell_type": "code",
   "execution_count": 18,
   "metadata": {},
   "outputs": [
    {
     "data": {
      "text/plain": [
       "datetime.datetime(2025, 1, 20, 11, 6, 6, 134856)"
      ]
     },
     "execution_count": 18,
     "metadata": {},
     "output_type": "execute_result"
    }
   ],
   "source": [
    "cur_date=datetime.now()\n",
    "cur_date"
   ]
  },
  {
   "cell_type": "code",
   "execution_count": 19,
   "metadata": {},
   "outputs": [
    {
     "data": {
      "text/plain": [
       "datetime.timedelta(days=7910, seconds=39966, microseconds=134856)"
      ]
     },
     "execution_count": 19,
     "metadata": {},
     "output_type": "execute_result"
    }
   ],
   "source": [
    "cur_date - dob"
   ]
  },
  {
   "cell_type": "code",
   "execution_count": 20,
   "metadata": {},
   "outputs": [
    {
     "name": "stdout",
     "output_type": "stream",
     "text": [
      "current age is: 21.6 months\n"
     ]
    }
   ],
   "source": [
    "days=7905\n",
    "#leap year 4year (3 nonleap)+1leap=(365*3)+366=1461\n",
    "#1461/4=365.25\n",
    "#365.25/12=30.44\n",
    "yr=7905/365.25\n",
    "yr\n",
    "yr1=round(yr,1)\n",
    "print(\"current age is:\",yr1,\"months\")"
   ]
  },
  {
   "cell_type": "markdown",
   "metadata": {},
   "source": [
    "**QUE 7** Create a logic to segregate folders based on file size. Make 3 folders small size, middle size, large size folder and transfer the files to respective folders\n"
   ]
  },
  {
   "cell_type": "code",
   "execution_count": 21,
   "metadata": {},
   "outputs": [],
   "source": [
    "import os\n",
    "import shutil"
   ]
  },
  {
   "cell_type": "code",
   "execution_count": 22,
   "metadata": {},
   "outputs": [
    {
     "name": "stdout",
     "output_type": "stream",
     "text": [
      "C:\\Users\\91879\\Downloads\\YASH BIZMETRIC\\08-01-2025 python.ipynb\n",
      "C:\\Users\\91879\\Downloads\\YASH BIZMETRIC\\08-01-2025 python.ipynb 33.896 kb\n",
      "small file\n",
      "C:\\Users\\91879\\Downloads\\YASH BIZMETRIC\\BVF.pdf\n",
      "C:\\Users\\91879\\Downloads\\YASH BIZMETRIC\\BVF.pdf 1082.896 kb\n",
      "large file\n",
      "C:\\Users\\91879\\Downloads\\YASH BIZMETRIC\\GNC_7916.jpg\n",
      "C:\\Users\\91879\\Downloads\\YASH BIZMETRIC\\GNC_7916.jpg 81.208 kb\n",
      "large file\n",
      "C:\\Users\\91879\\Downloads\\YASH BIZMETRIC\\GRADUATION CERTIFICATE & RESULT.pdf\n",
      "C:\\Users\\91879\\Downloads\\YASH BIZMETRIC\\GRADUATION CERTIFICATE & RESULT.pdf 2510.349 kb\n",
      "large file\n",
      "C:\\Users\\91879\\Downloads\\YASH BIZMETRIC\\NDA (Biz-Metric) (1).pdf\n",
      "C:\\Users\\91879\\Downloads\\YASH BIZMETRIC\\NDA (Biz-Metric) (1).pdf 479.261 kb\n",
      "medium file\n",
      "C:\\Users\\91879\\Downloads\\YASH BIZMETRIC\\SERVICE AGREEMENT.docx\n",
      "C:\\Users\\91879\\Downloads\\YASH BIZMETRIC\\SERVICE AGREEMENT.docx 32.672 kb\n",
      "small file\n",
      "C:\\Users\\91879\\Downloads\\YASH BIZMETRIC\\yash adhar.pdf\n",
      "C:\\Users\\91879\\Downloads\\YASH BIZMETRIC\\yash adhar.pdf 229.829 kb\n",
      "medium file\n",
      "C:\\Users\\91879\\Downloads\\YASH BIZMETRIC\\YASH PAN20240821 (1).jpg\n",
      "C:\\Users\\91879\\Downloads\\YASH BIZMETRIC\\YASH PAN20240821 (1).jpg 110.68 kb\n",
      "large file\n",
      "C:\\Users\\91879\\Downloads\\YASH BIZMETRIC\\YASH PHOTO PASS.pdf\n",
      "C:\\Users\\91879\\Downloads\\YASH BIZMETRIC\\YASH PHOTO PASS.pdf 52.759 kb\n",
      "large file\n",
      "C:\\Users\\91879\\Downloads\\YASH BIZMETRIC\\YASH VYAWHARE DOCUMENTS.zip\n",
      "C:\\Users\\91879\\Downloads\\YASH BIZMETRIC\\YASH VYAWHARE DOCUMENTS.zip 4337.483 kb\n",
      "large file\n"
     ]
    }
   ],
   "source": [
    "\n",
    "for i in os.listdir(\"C:\\\\Users\\\\91879\\\\Downloads\\\\YASH BIZMETRIC\"):\n",
    "   \n",
    "    filename=\"C:\\\\Users\\\\91879\\\\Downloads\\\\YASH BIZMETRIC\\\\\"+i\n",
    "    print(filename)\n",
    "    sz=os.stat(filename).st_size/1000\n",
    "    print(filename,sz,\"kb\")\n",
    "\n",
    "    if sz <= 50:\n",
    "        shutil.copy(filename,\"D:\\\\biz_task\\\\small\")\n",
    "        print(\"small file\")\n",
    "    elif 200 < sz <=500:\n",
    "        shutil.copy(filename,\"D:\\\\biz_task\\\\medium\")    \n",
    "        print(\"medium file\")\n",
    "    else:\n",
    "        shutil.copy(filename,\"D:\\\\biz_task\\\\large\")\n",
    "        print(\"large file\")    "
   ]
  }
 ],
 "metadata": {
  "kernelspec": {
   "display_name": "Python 3",
   "language": "python",
   "name": "python3"
  },
  "language_info": {
   "codemirror_mode": {
    "name": "ipython",
    "version": 3
   },
   "file_extension": ".py",
   "mimetype": "text/x-python",
   "name": "python",
   "nbconvert_exporter": "python",
   "pygments_lexer": "ipython3",
   "version": "3.13.0"
  }
 },
 "nbformat": 4,
 "nbformat_minor": 2
}
